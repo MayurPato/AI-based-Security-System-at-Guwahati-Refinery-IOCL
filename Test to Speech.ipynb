{
 "cells": [
  {
   "cell_type": "code",
   "execution_count": 1,
   "id": "2dc1b530",
   "metadata": {},
   "outputs": [],
   "source": [
    "from ibm_watson import TextToSpeechV1 \n",
    "from ibm_cloud_sdk_core.authenticators import IAMAuthenticator \n",
    "from playsound import playsound"
   ]
  },
  {
   "cell_type": "code",
   "execution_count": 2,
   "id": "e8c81c93",
   "metadata": {},
   "outputs": [],
   "source": [
    "apikey = \"\"\n",
    "url = \"\""
   ]
  },
  {
   "cell_type": "code",
   "execution_count": 3,
   "id": "7eee0d05",
   "metadata": {},
   "outputs": [],
   "source": [
    "authenticator = IAMAuthenticator(apikey) \n",
    "tts = TextToSpeechV1(authenticator = authenticator) \n",
    "tts.set_service_url(url) "
   ]
  },
  {
   "cell_type": "code",
   "execution_count": 4,
   "id": "cfa85595",
   "metadata": {},
   "outputs": [],
   "source": [
    "with open('./text_to_speech.mp3', 'wb') as audio_file: \n",
    "    res = tts.synthesize('Man entry detected inside S R U', accept='audio/mp3', voice='en-US_EmmaExpressive').get_result() \n",
    "    audio_file.write(res.content)"
   ]
  },
  {
   "cell_type": "code",
   "execution_count": 7,
   "id": "2537d3d4",
   "metadata": {},
   "outputs": [],
   "source": [
    "playsound('text_to_speech.mp3')"
   ]
  }
 ],
 "metadata": {
  "kernelspec": {
   "display_name": "Python 3 (ipykernel)",
   "language": "python",
   "name": "python3"
  },
  "language_info": {
   "codemirror_mode": {
    "name": "ipython",
    "version": 3
   },
   "file_extension": ".py",
   "mimetype": "text/x-python",
   "name": "python",
   "nbconvert_exporter": "python",
   "pygments_lexer": "ipython3",
   "version": "3.11.3"
  }
 },
 "nbformat": 4,
 "nbformat_minor": 5
}
